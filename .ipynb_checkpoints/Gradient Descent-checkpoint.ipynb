{
 "cells": [
  {
   "cell_type": "markdown",
   "metadata": {},
   "source": [
    "# Gradient Descent"
   ]
  },
  {
   "cell_type": "markdown",
   "metadata": {},
   "source": [
    "- Generic optimisation algorithm capable of finding optimal solutions to a wide range of problems.\n",
    "\n",
    "- The general idea is to tweak parameters iteratively in order to minimise a cost function.\n",
    "\n",
    "\n",
    "- `Random initialisation`:\n",
    "    - Start by filling theta with random values\n",
    "    - Then attempt to decrease the cost function gradually changing the parameters, until the algorithm converges to a minimum\n",
    "    \n",
    "    \n",
    "- `Learning rate`:\n",
    "    - The learning step size or learning rate, is proportional to the slope of the cost function 👉 the steps gradually get smaller as the parameters approach the minimum.\n",
    "    - If too small -> many iterations and long time to converge\n",
    "    - If to high -> it will jump to much possibly not finding any minimum"
   ]
  },
  {
   "cell_type": "markdown",
   "metadata": {},
   "source": [
    "Ensure all features have a `similar scale` StandardScaler( ), otherwise it will take long to coverge"
   ]
  },
  {
   "cell_type": "markdown",
   "metadata": {},
   "source": [
    "## Batch Gradient Descent"
   ]
  },
  {
   "cell_type": "markdown",
   "metadata": {},
   "source": [
    "`Full Gradient Descent` It uses the whole batch of training data at every step:\n",
    "    - It could be very slow"
   ]
  },
  {
   "cell_type": "markdown",
   "metadata": {},
   "source": [
    "## Stochastic Gradient Descent"
   ]
  },
  {
   "cell_type": "markdown",
   "metadata": {},
   "source": [
    "It `picks a random instance` in the training set at every step and computes the gradients based only on that single instance.\n",
    "\n",
    "    - It is very fast\n",
    "    - Being stochastic (random) it doesn't decrease gently until reaching the minimum, it bounces up and down\n",
    "    - It will find good parameter values, but not optimal"
   ]
  },
  {
   "cell_type": "markdown",
   "metadata": {},
   "source": []
  }
 ],
 "metadata": {
  "kernelspec": {
   "display_name": "Python 3",
   "language": "python",
   "name": "python3"
  },
  "language_info": {
   "codemirror_mode": {
    "name": "ipython",
    "version": 3
   },
   "file_extension": ".py",
   "mimetype": "text/x-python",
   "name": "python",
   "nbconvert_exporter": "python",
   "pygments_lexer": "ipython3",
   "version": "3.7.6"
  },
  "toc": {
   "base_numbering": 1,
   "nav_menu": {},
   "number_sections": true,
   "sideBar": true,
   "skip_h1_title": false,
   "title_cell": "Table of Contents",
   "title_sidebar": "Contents",
   "toc_cell": false,
   "toc_position": {},
   "toc_section_display": true,
   "toc_window_display": false
  }
 },
 "nbformat": 4,
 "nbformat_minor": 4
}
