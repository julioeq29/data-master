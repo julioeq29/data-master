{
 "cells": [
  {
   "cell_type": "markdown",
   "metadata": {},
   "source": [
    "# Dockerising XL >5GB app"
   ]
  },
  {
   "cell_type": "code",
   "execution_count": null,
   "metadata": {},
   "outputs": [],
   "source": []
  },
  {
   "cell_type": "markdown",
   "metadata": {},
   "source": [
    "## Local"
   ]
  },
  {
   "cell_type": "code",
   "execution_count": 1,
   "metadata": {},
   "outputs": [],
   "source": [
    "# Dockerfile (should be on the parent directory of the project)\n",
    "\n",
    "# FROM python:3.8.6-buster\n",
    "# COPY SmArtGenerative /SmArtGenerative\n",
    "# RUN pip install --upgrade pip\n",
    "# RUN pip install -r SmArtGenerative/requirements.txt\n",
    "# CMD streamlit run SmArtGenerative/app.py"
   ]
  },
  {
   "cell_type": "markdown",
   "metadata": {},
   "source": [
    "### Adding DotEnv"
   ]
  },
  {
   "cell_type": "code",
   "execution_count": null,
   "metadata": {},
   "outputs": [],
   "source": [
    "# FROM python:3.8.6-buster\n",
    "# COPY SmArtGenerative /SmArtGenerative\n",
    "# RUN pip install --upgrade pip\n",
    "# RUN pip install -r SmArtGenerative/requirements.txt\n",
    "# ENV GOOGLE_APPLICATION_CREDENTIALS=app_name/name.json\n",
    "# CMD streamlit run SmArtGenerative/app.py"
   ]
  },
  {
   "cell_type": "markdown",
   "metadata": {},
   "source": [
    "## Build new image"
   ]
  },
  {
   "cell_type": "code",
   "execution_count": null,
   "metadata": {},
   "outputs": [],
   "source": [
    "# Build image\n",
    "-> docker build -t api .\n",
    "\n",
    "-> docker build -t app_name ."
   ]
  },
  {
   "cell_type": "markdown",
   "metadata": {},
   "source": [
    "### Run interactively"
   ]
  },
  {
   "cell_type": "code",
   "execution_count": null,
   "metadata": {},
   "outputs": [],
   "source": [
    "# Run interactively\n",
    "docker run -it -p 8080:8501 smart sh\n",
    "    \n",
    "    # Inside the container it can be run\n",
    "    -> streamlit run SmArtGenerative/app.py"
   ]
  },
  {
   "cell_type": "markdown",
   "metadata": {},
   "source": [
    "### Run not interactively"
   ]
  },
  {
   "cell_type": "code",
   "execution_count": null,
   "metadata": {},
   "outputs": [],
   "source": [
    "# Run container\n",
    "-> docker run -p 8080:8000 app_name\n",
    "    \n",
    "# Run container w Streamlit\n",
    "-> docker run -p 8080:8501 smart"
   ]
  },
  {
   "cell_type": "code",
   "execution_count": null,
   "metadata": {},
   "outputs": [],
   "source": [
    "# Check localhost\n",
    "http://localhost:8080/"
   ]
  },
  {
   "cell_type": "code",
   "execution_count": null,
   "metadata": {},
   "outputs": [],
   "source": [
    "# How to stop a container\n",
    "# 1. List the running containers\n",
    "docker ps\n",
    "\n",
    "# 2. Stop the image\n",
    "# 👉 use the correct CONTAINER ID\n",
    "docker stop 152e5b79177b\n",
    "\n",
    "# 3. If you are in a hurry\n",
    "# 👉 use with caution, only if the image refuses to stop\n",
    "docker kill 152e5b79177b"
   ]
  },
  {
   "cell_type": "markdown",
   "metadata": {},
   "source": [
    "## Container Registry"
   ]
  },
  {
   "cell_type": "markdown",
   "metadata": {},
   "source": [
    "#### Update Dockerfile"
   ]
  },
  {
   "cell_type": "code",
   "execution_count": null,
   "metadata": {},
   "outputs": [],
   "source": [
    "# Dockerfile (should be on the parent directory of the project)\n",
    "\n",
    "# FROM python:3.8.6-buster\n",
    "# COPY SmArtGenerative /SmArtGenerative\n",
    "# RUN pip install --upgrade pip\n",
    "# RUN pip install -r SmArtGenerative/requirements.txt\n",
    "# CMD streamlit run SmArtGenerative/app.py --server.port $PORT"
   ]
  },
  {
   "cell_type": "code",
   "execution_count": null,
   "metadata": {},
   "outputs": [],
   "source": [
    "# Make sure which project is linked to GCP\n",
    "gcloud projects list\n",
    "\n",
    "# If you need to change projects\n",
    "gcloud config set project wagon-bootcamp-290987"
   ]
  },
  {
   "cell_type": "code",
   "execution_count": null,
   "metadata": {},
   "outputs": [],
   "source": [
    "# GCP Project ID\n",
    "export GCP_PROJECT_ID=\"replace-me-with-your-project-id\"\n",
    "\n",
    "-> export GCP_PROJECT_ID=wagon-bootcamp-290987 \n",
    "-> echo $GCP_PROJECT_ID"
   ]
  },
  {
   "cell_type": "code",
   "execution_count": null,
   "metadata": {},
   "outputs": [],
   "source": [
    "# Project Image\n",
    "docker images\n",
    "\n",
    "REPOSITORY                              TAG            IMAGE ID       CREATED        SIZE\n",
    "eu.gcr.io/wagon-bootcamp-290987/smart   latest         c512cbd5e427   3 hours ago    5.63GB\n",
    "smart                                   latest         c512cbd5e427   3 hours ago    5.63GB"
   ]
  },
  {
   "cell_type": "code",
   "execution_count": null,
   "metadata": {},
   "outputs": [],
   "source": [
    "-> export DOCKER_IMAGE_NAME=smart\n",
    "-> echo $DOCKER_IMAGE_NAME"
   ]
  },
  {
   "cell_type": "code",
   "execution_count": null,
   "metadata": {},
   "outputs": [],
   "source": [
    "# Region 1/2\n",
    "-> export GCR_MULTI_REGION=\"eu.gcr.io\"\n",
    "-> echo $GCR_MULTI_REGION"
   ]
  },
  {
   "cell_type": "code",
   "execution_count": null,
   "metadata": {},
   "outputs": [],
   "source": [
    "# Region 2/2\n",
    "-> export GCR_REGION=\"europe-west1\"\n",
    "-> echo $GCR_REGION"
   ]
  },
  {
   "cell_type": "code",
   "execution_count": null,
   "metadata": {},
   "outputs": [],
   "source": [
    "# Double check GCP Project List\n",
    "-> gcloud config list\n",
    "\n",
    "[core]\n",
    "account = julioeq29@gmail.com\n",
    "disable_usage_reporting = True\n",
    "project = wagon-bootcamp-290987     # <- This line is very important "
   ]
  },
  {
   "cell_type": "markdown",
   "metadata": {},
   "source": [
    "## Build image in Container Registry"
   ]
  },
  {
   "cell_type": "code",
   "execution_count": null,
   "metadata": {},
   "outputs": [],
   "source": [
    "# Build it\n",
    "docker build -t $GCR_MULTI_REGION/$GCP_PROJECT_ID/$DOCKER_IMAGE_NAME ."
   ]
  },
  {
   "cell_type": "code",
   "execution_count": null,
   "metadata": {},
   "outputs": [],
   "source": [
    "# Test it on Local \n",
    "docker run -e PORT=8000 -p 8000:8000 $GCR_MULTI_REGION/$GCP_PROJECT_ID/$DOCKER_IMAGE_NAME"
   ]
  },
  {
   "cell_type": "code",
   "execution_count": null,
   "metadata": {},
   "outputs": [],
   "source": [
    "# Verify in Local Host\n",
    " http://localhost:8080/"
   ]
  },
  {
   "cell_type": "code",
   "execution_count": null,
   "metadata": {},
   "outputs": [],
   "source": [
    "# Push image\n",
    "docker push $GCR_MULTI_REGION/$GCP_PROJECT_ID/$DOCKER_IMAGE_NAME\n",
    "# THIS WILL TAKE A LOOOOONG TIME"
   ]
  },
  {
   "cell_type": "markdown",
   "metadata": {},
   "source": [
    "# Run GCLOUD"
   ]
  },
  {
   "cell_type": "code",
   "execution_count": null,
   "metadata": {},
   "outputs": [],
   "source": [
    "gcloud run deploy --image $GCR_MULTI_REGION/$GCP_PROJECT_ID/$DOCKER_IMAGE_NAME \n",
    "            --platform managed \n",
    "            --region $GCR_REGION \n",
    "            --memory 8Gi \n",
    "            --cpu 2  "
   ]
  }
 ],
 "metadata": {
  "kernelspec": {
   "display_name": "Python 3",
   "language": "python",
   "name": "python3"
  },
  "language_info": {
   "codemirror_mode": {
    "name": "ipython",
    "version": 3
   },
   "file_extension": ".py",
   "mimetype": "text/x-python",
   "name": "python",
   "nbconvert_exporter": "python",
   "pygments_lexer": "ipython3",
   "version": "3.7.6"
  },
  "toc": {
   "base_numbering": 1,
   "nav_menu": {},
   "number_sections": true,
   "sideBar": true,
   "skip_h1_title": false,
   "title_cell": "Table of Contents",
   "title_sidebar": "Contents",
   "toc_cell": false,
   "toc_position": {},
   "toc_section_display": true,
   "toc_window_display": false
  }
 },
 "nbformat": 4,
 "nbformat_minor": 4
}
