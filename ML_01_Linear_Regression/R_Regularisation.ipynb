{
 "cells": [
  {
   "cell_type": "markdown",
   "metadata": {},
   "source": [
    "# Regularisation"
   ]
  },
  {
   "cell_type": "markdown",
   "metadata": {},
   "source": [
    "A good way to reduce overfitting is to regularise the models 👉 `constrain it`"
   ]
  },
  {
   "cell_type": "markdown",
   "metadata": {},
   "source": [
    "- It is quite common for the `cost function used during training` to be different from the `performance measure used for testing`: \n",
    "    - Example: Classifiers are often trained using a cost function such as `log loss`, but evaluated using precision/recall."
   ]
  },
  {
   "cell_type": "markdown",
   "metadata": {},
   "source": [
    "## Ridge Regression (L2)"
   ]
  },
  {
   "cell_type": "markdown",
   "metadata": {},
   "source": [
    "It forces the learning algorithm to not only fit the data but also **keep the model weights as small as possible**."
   ]
  },
  {
   "cell_type": "markdown",
   "metadata": {},
   "source": [
    "Hyperparameter `alpha` controls the regularisation strenght.\n",
    "\n",
    "- If alpha = 0, then Ridge Regression is just a Linear Regression.\n",
    "\n",
    "- If aplha >> 0, then all weights end up very close to zero, and the result is a flat line going through the data's mean."
   ]
  },
  {
   "cell_type": "markdown",
   "metadata": {},
   "source": [
    "🔥 Important: `StandardScaler` is necessary before performing Ridge Regression, as the model is sensitive to scale of features. This applies to most regularised models."
   ]
  },
  {
   "cell_type": "markdown",
   "metadata": {},
   "source": [
    "## Lasso Regression (L1)"
   ]
  },
  {
   "cell_type": "markdown",
   "metadata": {},
   "source": [
    "It tends to **eliminate the weights of the least important features**, setting them to zero."
   ]
  },
  {
   "cell_type": "markdown",
   "metadata": {},
   "source": [
    "It automatically performs feature selection and outputs a sparse model (few non-zero feature weights)"
   ]
  },
  {
   "cell_type": "markdown",
   "metadata": {},
   "source": [
    "## Elastic Net"
   ]
  },
  {
   "cell_type": "markdown",
   "metadata": {},
   "source": [
    "Middle ground between Ridge and Lasso. The regularisation term is a simple mix of both, and you can control the mix ratio r.\n",
    "\n",
    "\n",
    "- When `r = 0`, Elastic Net == Ridge\n",
    "- When `r = 1`, Elastic Net == Lasso"
   ]
  },
  {
   "cell_type": "markdown",
   "metadata": {},
   "source": [
    "# When use what?"
   ]
  },
  {
   "cell_type": "markdown",
   "metadata": {},
   "source": [
    "- Pure Linear Regression is never that good, use always a bit of regularisation\n",
    "\n",
    "\n",
    "**Ridge**:\n",
    "    - Is a good default\n",
    "    \n",
    "**Lasso**:\n",
    "    - Use when you suspect only few features are useful\n",
    "    \n",
    "**Elastic Net**:\n",
    "    - If few features are useful, and\n",
    "    - Preferred over Lasso\n",
    "        - (because Lasso behaves erratically when # of features >> # of training instances // or when several features are strongly correlated"
   ]
  },
  {
   "cell_type": "code",
   "execution_count": null,
   "metadata": {},
   "outputs": [],
   "source": []
  },
  {
   "cell_type": "code",
   "execution_count": null,
   "metadata": {},
   "outputs": [],
   "source": []
  }
 ],
 "metadata": {
  "kernelspec": {
   "display_name": "Python 3",
   "language": "python",
   "name": "python3"
  },
  "language_info": {
   "codemirror_mode": {
    "name": "ipython",
    "version": 3
   },
   "file_extension": ".py",
   "mimetype": "text/x-python",
   "name": "python",
   "nbconvert_exporter": "python",
   "pygments_lexer": "ipython3",
   "version": "3.7.6"
  },
  "toc": {
   "base_numbering": 1,
   "nav_menu": {},
   "number_sections": true,
   "sideBar": true,
   "skip_h1_title": false,
   "title_cell": "Table of Contents",
   "title_sidebar": "Contents",
   "toc_cell": false,
   "toc_position": {},
   "toc_section_display": true,
   "toc_window_display": false
  }
 },
 "nbformat": 4,
 "nbformat_minor": 4
}
