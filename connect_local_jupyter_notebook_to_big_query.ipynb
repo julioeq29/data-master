{
 "cells": [
  {
   "cell_type": "markdown",
   "id": "fd42890b",
   "metadata": {},
   "source": [
    "# Data Analytics - investigating Tiller dataset"
   ]
  },
  {
   "cell_type": "code",
   "execution_count": 1,
   "id": "fbeb7a4d",
   "metadata": {},
   "outputs": [],
   "source": [
    "import pandas as pd\n",
    "import matplotlib.pyplot as plt\n",
    "import seaborn as sns\n",
    "\n",
    "from google.cloud import bigquery"
   ]
  },
  {
   "cell_type": "markdown",
   "id": "8f72d2ff",
   "metadata": {},
   "source": [
    "Checking service account key"
   ]
  },
  {
   "cell_type": "code",
   "execution_count": 2,
   "id": "b197e61e",
   "metadata": {},
   "outputs": [
    {
     "name": "stdout",
     "output_type": "stream",
     "text": [
      "Please visit this URL to authorize this application: https://accounts.google.com/o/oauth2/auth?response_type=code&client_id=262006177488-3425ks60hkk80fssi9vpohv88g6q1iqd.apps.googleusercontent.com&redirect_uri=http%3A%2F%2Flocalhost%3A8080%2F&scope=https%3A%2F%2Fwww.googleapis.com%2Fauth%2Fbigquery&state=KEMXBBmjNq1fuhnbc0QAwAoD7mfPa2&access_type=offline\n"
     ]
    }
   ],
   "source": [
    "import pydata_google_auth\n",
    "credentials = pydata_google_auth.get_user_credentials(\n",
    "    ['https://www.googleapis.com/auth/bigquery'],\n",
    ")"
   ]
  },
  {
   "cell_type": "code",
   "execution_count": 3,
   "id": "334e16d3",
   "metadata": {},
   "outputs": [
    {
     "data": {
      "text/plain": [
       "<google.oauth2.credentials.Credentials at 0x138288cd0>"
      ]
     },
     "execution_count": 3,
     "metadata": {},
     "output_type": "execute_result"
    }
   ],
   "source": [
    "credentials"
   ]
  },
  {
   "cell_type": "code",
   "execution_count": 14,
   "id": "8a8cb474",
   "metadata": {},
   "outputs": [],
   "source": [
    "project_id = 'wagon-bootcamp-290987'\n",
    "dataset_id = 'neo_bank'\n",
    "bigquery_region = 'EU'\n",
    "\n",
    "TABLE1 = 'devices'\n",
    "TABLE2 = 'notifications'\n",
    "TABLE3 = 'transactions'\n",
    "TABLE4 = 'users'"
   ]
  },
  {
   "cell_type": "code",
   "execution_count": 15,
   "id": "1627df79",
   "metadata": {},
   "outputs": [],
   "source": [
    "def query_whole_table(table):\n",
    "\n",
    "    query = f\"\"\"\n",
    "            SELECT *\n",
    "            FROM {project_id}.{dataset_id}.{table}\n",
    "            \"\"\"\n",
    "    \n",
    "    return query"
   ]
  },
  {
   "cell_type": "code",
   "execution_count": 16,
   "id": "3d75391f",
   "metadata": {},
   "outputs": [],
   "source": [
    "query_table1 = query_whole_table(TABLE1)"
   ]
  },
  {
   "cell_type": "code",
   "execution_count": 17,
   "id": "96d8eb15",
   "metadata": {},
   "outputs": [],
   "source": [
    "client = bigquery.Client(project=project_id, credentials=credentials)"
   ]
  },
  {
   "cell_type": "code",
   "execution_count": 18,
   "id": "37a24ca9",
   "metadata": {},
   "outputs": [
    {
     "data": {
      "text/html": [
       "<div>\n",
       "<style scoped>\n",
       "    .dataframe tbody tr th:only-of-type {\n",
       "        vertical-align: middle;\n",
       "    }\n",
       "\n",
       "    .dataframe tbody tr th {\n",
       "        vertical-align: top;\n",
       "    }\n",
       "\n",
       "    .dataframe thead th {\n",
       "        text-align: right;\n",
       "    }\n",
       "</style>\n",
       "<table border=\"1\" class=\"dataframe\">\n",
       "  <thead>\n",
       "    <tr style=\"text-align: right;\">\n",
       "      <th></th>\n",
       "      <th>string_field_0</th>\n",
       "      <th>string_field_1</th>\n",
       "    </tr>\n",
       "  </thead>\n",
       "  <tbody>\n",
       "    <tr>\n",
       "      <th>0</th>\n",
       "      <td>Apple</td>\n",
       "      <td>user_6809</td>\n",
       "    </tr>\n",
       "    <tr>\n",
       "      <th>1</th>\n",
       "      <td>Apple</td>\n",
       "      <td>user_3636</td>\n",
       "    </tr>\n",
       "    <tr>\n",
       "      <th>2</th>\n",
       "      <td>Apple</td>\n",
       "      <td>user_510</td>\n",
       "    </tr>\n",
       "    <tr>\n",
       "      <th>3</th>\n",
       "      <td>Apple</td>\n",
       "      <td>user_3468</td>\n",
       "    </tr>\n",
       "    <tr>\n",
       "      <th>4</th>\n",
       "      <td>Apple</td>\n",
       "      <td>user_7036</td>\n",
       "    </tr>\n",
       "  </tbody>\n",
       "</table>\n",
       "</div>"
      ],
      "text/plain": [
       "  string_field_0 string_field_1\n",
       "0          Apple      user_6809\n",
       "1          Apple      user_3636\n",
       "2          Apple       user_510\n",
       "3          Apple      user_3468\n",
       "4          Apple      user_7036"
      ]
     },
     "execution_count": 18,
     "metadata": {},
     "output_type": "execute_result"
    }
   ],
   "source": [
    "df_table1 = client.query(query_table1).to_dataframe()\n",
    "df_table1.head()"
   ]
  },
  {
   "cell_type": "code",
   "execution_count": null,
   "id": "29c880d9",
   "metadata": {},
   "outputs": [],
   "source": []
  }
 ],
 "metadata": {
  "kernelspec": {
   "display_name": "Python 3 (ipykernel)",
   "language": "python",
   "name": "python3"
  },
  "language_info": {
   "codemirror_mode": {
    "name": "ipython",
    "version": 3
   },
   "file_extension": ".py",
   "mimetype": "text/x-python",
   "name": "python",
   "nbconvert_exporter": "python",
   "pygments_lexer": "ipython3",
   "version": "3.10.6"
  },
  "toc": {
   "base_numbering": 1,
   "nav_menu": {},
   "number_sections": true,
   "sideBar": true,
   "skip_h1_title": false,
   "title_cell": "Table of Contents",
   "title_sidebar": "Contents",
   "toc_cell": false,
   "toc_position": {},
   "toc_section_display": true,
   "toc_window_display": false
  }
 },
 "nbformat": 4,
 "nbformat_minor": 5
}
