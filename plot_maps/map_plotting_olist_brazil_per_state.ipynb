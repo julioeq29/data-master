{
 "cells": [
  {
   "cell_type": "code",
   "execution_count": null,
   "id": "0ea19b70",
   "metadata": {},
   "outputs": [],
   "source": [
    "import geopandas as gpd\n",
    "\n",
    "# Calculate nps score per state\n",
    "# merge = data['orders'].merge(data['order_reviews'], on='order_id')\\\n",
    "#                       .merge(data['customers'], on='customer_id')\n",
    "\n",
    "# by_state_nps = merge.groupby(['customer_state'], as_index=False)['review_score'] \\\n",
    "#                     .apply(lambda s: s.map({5:1, 4:0, 3:-1, 2:-1, 1:-1}).sum() / s.count()) \\\n",
    "#                     .rename(columns={\"review_score\":\"average_nps\"})\n",
    "\n",
    "# nps_brazil = orders.review_score.map({5:1, 4:0, 3:-1, 2:-1, 1:-1}).sum() / orders.review_score.count()\n",
    "\n",
    "# Preprocess GeoDataFrame\n",
    "brazil = gpd.read_file('brazil.gpkg')\n",
    "brazil.rename({\"sigla\": 'customer_state'}, axis=1, inplace=True)\n",
    "# brazil_nps = brazil.merge(by_state_nps, on='customer_state', how='left')\n",
    "# brazil_nps = brazil_nps[['customer_state', 'average_nps', 'geometry']]\n",
    "brazil_nps['center_x'] = brazil_nps['geometry'].map(lambda c: c.centroid.x)\n",
    "brazil_nps['center_y'] = brazil_nps['geometry'].map(lambda c: c.centroid.y)\n",
    "\n",
    "# Plot figure\n",
    "fig, ax = plt.subplots(figsize=(11,7))\n",
    "brazil_nps.plot(column = \"average_nps\",\n",
    "                   cmap='RdBu',\n",
    "                   legend=True,\n",
    "                   edgecolor='black', \n",
    "                   ax=ax,\n",
    "                   label='Average nps per state')\n",
    "ax.set_xlabel(\"Latitude\", labelpad=10)\n",
    "ax.set_ylabel(\"Longitude\", labelpad=10)\n",
    "ax.spines['right'].set_visible(False)\n",
    "ax.spines['top'].set_visible(False)\n",
    "#ax.spines['left'].set_visible(False)\n",
    "#ax.spines['bottom'].set_visible(False)\n",
    "#ax.set_xticks([])\n",
    "#ax.set_yticks([])\n",
    "\n",
    "ax.set_title('Average net promoter score (NPS per state)', pad=10, size=16)\n",
    "\n",
    "ax.text(-48,-32,f'Brazil NPS Score = {nps_brazil*100:.1f}%', size=12)\n",
    "\n",
    "for idx, row in brazil_nps.iterrows():\n",
    "    ax.text(row[\"center_x\"], row[\"center_y\"],row[\"customer_state\"], ha=\"center\", va=\"center\")\n",
    "    \n",
    "plt.show();"
   ]
  },
  {
   "cell_type": "code",
   "execution_count": null,
   "id": "b7101380",
   "metadata": {},
   "outputs": [],
   "source": []
  }
 ],
 "metadata": {
  "kernelspec": {
   "display_name": "Python 3 (ipykernel)",
   "language": "python",
   "name": "python3"
  },
  "language_info": {
   "codemirror_mode": {
    "name": "ipython",
    "version": 3
   },
   "file_extension": ".py",
   "mimetype": "text/x-python",
   "name": "python",
   "nbconvert_exporter": "python",
   "pygments_lexer": "ipython3",
   "version": "3.10.6"
  },
  "toc": {
   "base_numbering": 1,
   "nav_menu": {},
   "number_sections": true,
   "sideBar": true,
   "skip_h1_title": false,
   "title_cell": "Table of Contents",
   "title_sidebar": "Contents",
   "toc_cell": false,
   "toc_position": {},
   "toc_section_display": true,
   "toc_window_display": false
  }
 },
 "nbformat": 4,
 "nbformat_minor": 5
}
