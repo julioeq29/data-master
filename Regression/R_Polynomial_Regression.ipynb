{
 "cells": [
  {
   "cell_type": "markdown",
   "metadata": {},
   "source": [
    "# Polynomial Regression"
   ]
  },
  {
   "cell_type": "markdown",
   "metadata": {},
   "source": [
    "If data is more complex than a straight line, you can use a linear model to fit nonlinear data.\n",
    "- To do this, you need to add powers to each feature (as new features), then train the linear model on this extended set of features."
   ]
  },
  {
   "cell_type": "code",
   "execution_count": 4,
   "metadata": {},
   "outputs": [],
   "source": [
    "import numpy as np"
   ]
  },
  {
   "cell_type": "code",
   "execution_count": 5,
   "metadata": {},
   "outputs": [],
   "source": [
    "m = 100\n",
    "X = 6 * np.random.rand(m,1) - 3\n",
    "y = 0.5 * X**2 + X + 2 + np.random.rand(m,1)"
   ]
  },
  {
   "cell_type": "code",
   "execution_count": 1,
   "metadata": {},
   "outputs": [],
   "source": [
    "from sklearn.preprocessing import PolynomialFeatures"
   ]
  },
  {
   "cell_type": "code",
   "execution_count": 3,
   "metadata": {},
   "outputs": [],
   "source": [
    "poly_features = PolynomialFeatures(degree=2, # to make it quadratic\n",
    "                                   include_bias=False)"
   ]
  },
  {
   "cell_type": "markdown",
   "metadata": {},
   "source": [
    "What `sklearn` does is add a new feature to the set of features. \n",
    "\n",
    "If we add `degree=2` it adds the square of each feature to the training set."
   ]
  },
  {
   "cell_type": "code",
   "execution_count": 6,
   "metadata": {},
   "outputs": [
    {
     "name": "stdout",
     "output_type": "stream",
     "text": [
      "[-1.8576691]\n",
      "[-1.8576691   3.45093447]\n"
     ]
    }
   ],
   "source": [
    "X_poly = poly_features.fit_transform(X)\n",
    "print(X[0])\n",
    "print(X_poly[0])"
   ]
  },
  {
   "cell_type": "markdown",
   "metadata": {},
   "source": [
    "Now we can call the `LinearRegression` on the extended training set"
   ]
  },
  {
   "cell_type": "code",
   "execution_count": 7,
   "metadata": {},
   "outputs": [],
   "source": [
    "from sklearn.linear_model import LinearRegression"
   ]
  },
  {
   "cell_type": "code",
   "execution_count": 8,
   "metadata": {},
   "outputs": [
    {
     "data": {
      "text/plain": [
       "(array([2.49604399]), array([[1.0324197 , 0.51038336]]))"
      ]
     },
     "execution_count": 8,
     "metadata": {},
     "output_type": "execute_result"
    }
   ],
   "source": [
    "lin_reg = LinearRegression()\n",
    "lin_reg.fit(X_poly, y)\n",
    "lin_reg.intercept_, lin_reg.coef_"
   ]
  },
  {
   "cell_type": "markdown",
   "metadata": {},
   "source": [
    "🔥 Polynomial Regression is capable of finding relationships between features (LinReg cannot) 🔥\n",
    "\n",
    "- This is possible because PolyReg adds all combinations of features up to a given degree:\n",
    "    - Two features `a` and `b`:\n",
    "        - degree = 3\n",
    "        - a^2, a^3, b^2, b^3 and will also add\n",
    "        - ab, a^2b and ab^2"
   ]
  },
  {
   "cell_type": "code",
   "execution_count": 12,
   "metadata": {},
   "outputs": [
    {
     "data": {
      "text/plain": [
       "array([[0.53747185, 0.92952975, 0.36415592, 0.02300902, 0.94062253],\n",
       "       [0.0046442 , 0.62554137, 0.96487507, 0.90898894, 0.68515677],\n",
       "       [0.38257384, 0.31929536, 0.22088167, 0.29516811, 0.23853239],\n",
       "       [0.0537424 , 0.62650358, 0.7331779 , 0.70669095, 0.6758655 ],\n",
       "       [0.73658348, 0.62932728, 0.14635378, 0.35799738, 0.11374149],\n",
       "       [0.73588395, 0.68573433, 0.50462135, 0.86588324, 0.43705688],\n",
       "       [0.77576409, 0.39145546, 0.1077619 , 0.7243956 , 0.62425912],\n",
       "       [0.18489053, 0.4270208 , 0.08095054, 0.71937899, 0.73233895],\n",
       "       [0.79757377, 0.90072375, 0.79638942, 0.02105485, 0.23916283],\n",
       "       [0.57753816, 0.64118413, 0.82080323, 0.73228987, 0.297581  ]])"
      ]
     },
     "execution_count": 12,
     "metadata": {},
     "output_type": "execute_result"
    }
   ],
   "source": [
    "np.random.rand(10,5)"
   ]
  },
  {
   "cell_type": "code",
   "execution_count": null,
   "metadata": {},
   "outputs": [],
   "source": []
  }
 ],
 "metadata": {
  "kernelspec": {
   "display_name": "Python 3",
   "language": "python",
   "name": "python3"
  },
  "language_info": {
   "codemirror_mode": {
    "name": "ipython",
    "version": 3
   },
   "file_extension": ".py",
   "mimetype": "text/x-python",
   "name": "python",
   "nbconvert_exporter": "python",
   "pygments_lexer": "ipython3",
   "version": "3.7.6"
  },
  "toc": {
   "base_numbering": 1,
   "nav_menu": {},
   "number_sections": true,
   "sideBar": true,
   "skip_h1_title": false,
   "title_cell": "Table of Contents",
   "title_sidebar": "Contents",
   "toc_cell": false,
   "toc_position": {},
   "toc_section_display": true,
   "toc_window_display": false
  }
 },
 "nbformat": 4,
 "nbformat_minor": 4
}
