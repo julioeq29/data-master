{
 "cells": [
  {
   "cell_type": "markdown",
   "metadata": {},
   "source": [
    "# Logistic Regression"
   ]
  },
  {
   "cell_type": "markdown",
   "metadata": {},
   "source": [
    "Binary Classifier\n",
    "\n",
    "It is used to `estimate the probability` that an instance belongs to a particular class.\n",
    "\n",
    "- If the estimated probability > 50%, then it predicts that the instance belongs to that class 👉 Class 0 `positive`\n",
    "- Otherwise it predicts that it does not 👉 Class 1 `negative`"
   ]
  },
  {
   "cell_type": "markdown",
   "metadata": {},
   "source": [
    "It works by computing the weighted sum of the input features (plus a bias term), instead \n",
    "of outputting the result like the Linear Regression, it outputs the `logistic` of it (probability)"
   ]
  },
  {
   "cell_type": "markdown",
   "metadata": {},
   "source": [
    "Just like other linear models, `Logistic Regression can be regularised`.\n",
    "\n",
    "\n",
    "- Scikit-Learn adds an `L2 (Ridge) penalty by default`.\n",
    "- The regularisation strenght is controlled not with alpha, but with `C`:\n",
    "    - The **higher the value of C**, the **less the model is regularised**."
   ]
  },
  {
   "cell_type": "code",
   "execution_count": null,
   "metadata": {},
   "outputs": [],
   "source": []
  }
 ],
 "metadata": {
  "kernelspec": {
   "display_name": "Python 3",
   "language": "python",
   "name": "python3"
  },
  "language_info": {
   "codemirror_mode": {
    "name": "ipython",
    "version": 3
   },
   "file_extension": ".py",
   "mimetype": "text/x-python",
   "name": "python",
   "nbconvert_exporter": "python",
   "pygments_lexer": "ipython3",
   "version": "3.7.6"
  },
  "toc": {
   "base_numbering": 1,
   "nav_menu": {},
   "number_sections": true,
   "sideBar": true,
   "skip_h1_title": false,
   "title_cell": "Table of Contents",
   "title_sidebar": "Contents",
   "toc_cell": false,
   "toc_position": {},
   "toc_section_display": true,
   "toc_window_display": false
  }
 },
 "nbformat": 4,
 "nbformat_minor": 4
}
